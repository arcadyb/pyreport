{
  "nbformat": 4,
  "nbformat_minor": 0,
  "metadata": {
    "colab": {
      "provenance": [],
      "authorship_tag": "ABX9TyN2LflvYT+kJsMnG+4NTWUk",
      "include_colab_link": true
    },
    "kernelspec": {
      "name": "python3",
      "display_name": "Python 3"
    },
    "language_info": {
      "name": "python"
    }
  },
  "cells": [
    {
      "cell_type": "markdown",
      "metadata": {
        "id": "view-in-github",
        "colab_type": "text"
      },
      "source": [
        "<a href=\"https://colab.research.google.com/github/arcadyb/pyreport/blob/main/mergetopdf.ipynb\" target=\"_parent\"><img src=\"https://colab.research.google.com/assets/colab-badge.svg\" alt=\"Open In Colab\"/></a>"
      ]
    },
    {
      "cell_type": "code",
      "source": [
        "!pip install Pillow reportlab\n",
        "from reportlab.pdfbase.pdfmetrics import stringWidth\n"
      ],
      "metadata": {
        "colab": {
          "base_uri": "https://localhost:8080/"
        },
        "id": "Cre12iPTb_ZZ",
        "outputId": "9ea7e066-0eec-4da6-fc3b-b591b2f149e1"
      },
      "execution_count": 7,
      "outputs": [
        {
          "output_type": "stream",
          "name": "stdout",
          "text": [
            "Requirement already satisfied: Pillow in /usr/local/lib/python3.10/dist-packages (9.4.0)\n",
            "Requirement already satisfied: reportlab in /usr/local/lib/python3.10/dist-packages (4.1.0)\n",
            "Requirement already satisfied: chardet in /usr/local/lib/python3.10/dist-packages (from reportlab) (5.2.0)\n"
          ]
        }
      ]
    },
    {
      "cell_type": "code",
      "execution_count": 9,
      "metadata": {
        "colab": {
          "base_uri": "https://localhost:8080/"
        },
        "id": "6sVKPqFDDqWC",
        "outputId": "46dec481-b545-45f9-9e7e-5e4d6424d4f4"
      },
      "outputs": [
        {
          "output_type": "stream",
          "name": "stdout",
          "text": [
            "Drive already mounted at /content/drive; to attempt to forcibly remount, call drive.mount(\"/content/drive\", force_remount=True).\n",
            "PDF created with 2 images.\n"
          ]
        }
      ],
      "source": [
        "from google.colab import drive\n",
        "drive.mount('/content/drive')\n",
        "from PIL import Image\n",
        "from reportlab.pdfgen import canvas\n",
        "from reportlab.lib.pagesizes import letter\n",
        "from reportlab.pdfbase.pdfmetrics import stringWidth\n",
        "\n",
        "import os\n",
        "import re\n",
        "import tempfile\n",
        "from reportlab.pdfbase.pdfmetrics import stringWidth\n",
        "\n",
        "# Assuming rotate_image and extract_info_from_filename functions are defined here\n",
        "def rotate_image(img, angle):\n",
        "    return img.rotate(angle, expand=True)\n",
        "def extract_info_from_filename(filename):\n",
        "    pattern = r'order-(?P<order>\\d+)_rot-(?P<rot>-?\\d+)_title-(?P<title>[^_]+)_date-\\((?P<date>.+)\\)'\n",
        "    match = re.search(pattern, filename)\n",
        "    if match:\n",
        "        return match.groupdict()\n",
        "    return None\n",
        "\n",
        "folder_path = '/content/drive/My Drive/ColabWSData/reports/makolet1'\n",
        "output_pdf = '/content/drive/My Drive/ColabWSData/reports/kabalot_no_toc.pdf'\n",
        "\n",
        "image_files_info = []\n",
        "for filename in os.listdir(folder_path):\n",
        "    if filename.endswith(('.png', '.jpg', '.jpeg')):\n",
        "        info = extract_info_from_filename(filename)\n",
        "        if info:\n",
        "            info['filename'] = filename\n",
        "            image_files_info.append(info)\n",
        "\n",
        "image_files_info.sort(key=lambda x: int(x['order']))\n",
        "\n",
        "c = canvas.Canvas(output_pdf)\n",
        "title_height = 140  # Adjusted height of the title area for larger text\n",
        "\n",
        "for info in image_files_info:\n",
        "    image_path = os.path.join(folder_path, info['filename'])\n",
        "    with Image.open(image_path) as img:\n",
        "        rotated_img = rotate_image(img, int(info['rot']))\n",
        "        width, height = rotated_img.size\n",
        "        # Adjust page size for title\n",
        "        c.setPageSize((width, height + title_height))\n",
        "\n",
        "        # Convert image to a temporary file\n",
        "        with tempfile.NamedTemporaryFile(delete=True, suffix='.png') as tmp:\n",
        "            rotated_img.save(tmp.name, format='PNG')\n",
        "            # Draw the image lower to make room for the title\n",
        "            c.drawImage(tmp.name, 0, title_height, width=width, height=height)\n",
        "\n",
        "            # Draw a contrasting background for the title to ensure visibility\n",
        "            c.setFillColorRGB(1, 1, 1)  # White background for the title area\n",
        "            c.rect(0, height + title_height - 60, width, 60, fill=1)\n",
        "\n",
        "            # Add the title text in a contrasting color, centered and twice as large\n",
        "            font_size = 24  # Double the original size\n",
        "            c.setFont(\"Helvetica\", font_size)\n",
        "            text = f\"{info['date']} - {info['title']}\"\n",
        "            text_width = stringWidth(text, \"Helvetica\", font_size)\n",
        "            c.setFillColorRGB(0, 0, 0)  # Black text\n",
        "            # Calculate the x position for centered text\n",
        "            text_x_position = (width - text_width) / 2\n",
        "            c.drawString(text_x_position, height + title_height - 40, text)\n",
        "\n",
        "            c.showPage()\n",
        "\n",
        "c.save()\n",
        "print(f'PDF created with {len(image_files_info)} images.')\n"
      ]
    }
  ]
}