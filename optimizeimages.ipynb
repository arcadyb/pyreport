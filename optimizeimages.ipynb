{
  "nbformat": 4,
  "nbformat_minor": 0,
  "metadata": {
    "colab": {
      "provenance": [],
      "authorship_tag": "ABX9TyOWgiY6TlHcPRREX6JR2q79",
      "include_colab_link": true
    },
    "kernelspec": {
      "name": "python3",
      "display_name": "Python 3"
    },
    "language_info": {
      "name": "python"
    }
  },
  "cells": [
    {
      "cell_type": "markdown",
      "metadata": {
        "id": "view-in-github",
        "colab_type": "text"
      },
      "source": [
        "<a href=\"https://colab.research.google.com/github/arcadyb/pyreport/blob/main/optimizeimages.ipynb\" target=\"_parent\"><img src=\"https://colab.research.google.com/assets/colab-badge.svg\" alt=\"Open In Colab\"/></a>"
      ]
    },
    {
      "cell_type": "code",
      "execution_count": 6,
      "metadata": {
        "colab": {
          "base_uri": "https://localhost:8080/"
        },
        "id": "o8RfVZIriIX5",
        "outputId": "2ba89674-9545-4003-9435-8704e07011af"
      },
      "outputs": [
        {
          "output_type": "stream",
          "name": "stdout",
          "text": [
            "Drive already mounted at /content/drive; to attempt to forcibly remount, call drive.mount(\"/content/drive\", force_remount=True).\n",
            "Requirement already satisfied: Pillow in /usr/local/lib/python3.10/dist-packages (9.4.0)\n"
          ]
        },
        {
          "output_type": "stream",
          "name": "stderr",
          "text": [
            "<ipython-input-6-77f81bba06b0>:24: DeprecationWarning: ANTIALIAS is deprecated and will be removed in Pillow 10 (2023-07-01). Use LANCZOS or Resampling.LANCZOS instead.\n",
            "  img = img.resize(new_size, Image.ANTIALIAS)\n"
          ]
        },
        {
          "output_type": "stream",
          "name": "stdout",
          "text": [
            "Optimized and saved: 16-02-24-100.jpg\n",
            "Optimized and saved: 16-02-24-100.jpg\n",
            "Optimized and saved: 28-02-24-134-1.jpg\n",
            "Optimized and saved: 28-02-24-134-1.jpg\n",
            "Optimized and saved: 19-02-24-950sh.jpg\n",
            "Optimized and saved: 19-02-24-950sh.jpg\n",
            "Optimized and saved: 190224-925.jpg\n",
            "Optimized and saved: 190224-925.jpg\n"
          ]
        }
      ],
      "source": [
        "from google.colab import drive\n",
        "drive.mount('/content/drive')\n",
        "!pip install Pillow\n",
        "from PIL import Image\n",
        "import os\n",
        "\n",
        "from PIL import Image\n",
        "import os\n",
        "\n",
        "def optimize_images(src_folder, dest_folder, num_colors=64, max_width=800, max_height=600):\n",
        "    os.makedirs(dest_folder, exist_ok=True)\n",
        "\n",
        "    for filename in os.listdir(src_folder):\n",
        "        if not filename.lower().endswith(('.png', '.jpg', '.jpeg', '.gif')):\n",
        "            continue\n",
        "\n",
        "        src_path = os.path.join(src_folder, filename)\n",
        "        dest_path = os.path.join(dest_folder, filename)\n",
        "\n",
        "        with Image.open(src_path) as img:\n",
        "            img = img.convert('P', palette=Image.ADAPTIVE, colors=num_colors)\n",
        "            ratio = min(max_width / img.width, max_height / img.height)\n",
        "            new_size = (int(img.width * ratio), int(img.height * ratio))\n",
        "            img = img.resize(new_size, Image.ANTIALIAS)\n",
        "\n",
        "            # Convert back to RGB if saving as JPEG\n",
        "            if dest_path.lower().endswith('.jpg') or dest_path.lower().endswith('.jpeg'):\n",
        "                img = img.convert('RGB')\n",
        "\n",
        "            img.save(dest_path)\n",
        "\n",
        "        print(f'Optimized and saved: {filename}')\n",
        "\n",
        "\n",
        "        print(f'Optimized and saved: {filename}')\n",
        "src_folder = '/content/drive/My Drive/ColabWSData/reports/makolet1'\n",
        "dest_folder = '/content/drive/My Drive/ColabWSData/reports/makoletopt'\n",
        "\n",
        "optimize_images(src_folder, dest_folder, num_colors=64, max_width=800, max_height=600)\n"
      ]
    }
  ]
}