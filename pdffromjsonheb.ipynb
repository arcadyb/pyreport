{
  "nbformat": 4,
  "nbformat_minor": 0,
  "metadata": {
    "colab": {
      "provenance": [],
      "authorship_tag": "ABX9TyMNNcVaZ0ykTvjuQCzZnNc8",
      "include_colab_link": true
    },
    "kernelspec": {
      "name": "python3",
      "display_name": "Python 3"
    },
    "language_info": {
      "name": "python"
    }
  },
  "cells": [
    {
      "cell_type": "markdown",
      "metadata": {
        "id": "view-in-github",
        "colab_type": "text"
      },
      "source": [
        "<a href=\"https://colab.research.google.com/github/arcadyb/pyreport/blob/main/pdffromjsonheb.ipynb\" target=\"_parent\"><img src=\"https://colab.research.google.com/assets/colab-badge.svg\" alt=\"Open In Colab\"/></a>"
      ]
    },
    {
      "cell_type": "code",
      "source": [
        "!pip install Pillow reportlab\n",
        "from reportlab.pdfbase.pdfmetrics import stringWidth"
      ],
      "metadata": {
        "colab": {
          "base_uri": "https://localhost:8080/"
        },
        "id": "P-yHI3ekoICl",
        "outputId": "3d93717c-d388-402d-8eea-5535164db2b9"
      },
      "execution_count": 3,
      "outputs": [
        {
          "output_type": "stream",
          "name": "stdout",
          "text": [
            "Requirement already satisfied: Pillow in /usr/local/lib/python3.10/dist-packages (9.4.0)\n",
            "Requirement already satisfied: reportlab in /usr/local/lib/python3.10/dist-packages (4.1.0)\n",
            "Requirement already satisfied: chardet in /usr/local/lib/python3.10/dist-packages (from reportlab) (5.2.0)\n"
          ]
        }
      ]
    },
    {
      "cell_type": "code",
      "execution_count": 9,
      "metadata": {
        "colab": {
          "base_uri": "https://localhost:8080/"
        },
        "id": "bMI3frSznyTH",
        "outputId": "95ebbde0-3ede-4a0c-ef9d-d28cd0cd3104"
      },
      "outputs": [
        {
          "output_type": "stream",
          "name": "stdout",
          "text": [
            "Requirement already satisfied: Pillow in /usr/local/lib/python3.10/dist-packages (9.4.0)\n",
            "Requirement already satisfied: reportlab in /usr/local/lib/python3.10/dist-packages (4.1.0)\n",
            "Requirement already satisfied: chardet in /usr/local/lib/python3.10/dist-packages (from reportlab) (5.2.0)\n",
            "Requirement already satisfied: python-bidi in /usr/local/lib/python3.10/dist-packages (0.4.2)\n",
            "Requirement already satisfied: arabic-reshaper in /usr/local/lib/python3.10/dist-packages (3.0.0)\n",
            "Requirement already satisfied: six in /usr/local/lib/python3.10/dist-packages (from python-bidi) (1.16.0)\n",
            "Drive already mounted at /content/drive; to attempt to forcibly remount, call drive.mount(\"/content/drive\", force_remount=True).\n",
            "PDF created successfully.\n"
          ]
        }
      ],
      "source": [
        "!pip install Pillow reportlab\n",
        "!pip install python-bidi arabic-reshaper\n",
        "from bidi.algorithm import get_display\n",
        "import arabic_reshaper  # While mainly for Arabic, it's needed for bidi processing\n",
        "\n",
        "import json\n",
        "from google.colab import drive\n",
        "from PIL import Image\n",
        "from reportlab.pdfgen import canvas\n",
        "import os\n",
        "import tempfile\n",
        "from reportlab.pdfbase.ttfonts import TTFont\n",
        "from reportlab.pdfbase import pdfmetrics\n",
        "# Mount Google Drive\n",
        "drive.mount('/content/drive')\n",
        "\n",
        "# Install necessary packages\n",
        "fontfile='NotoSansHebrew-VariableFont_wdthwght.ttf'\n",
        "font_path = '/content/drive/My Drive/ColabWSData/reports/NotoSansHebrew-VariableFont_wdthwght.ttf'\n",
        "\n",
        "# Register the font with ReportLab\n",
        "pdfmetrics.registerFont(TTFont('NotoSansHebrew', font_path))\n",
        "# Function to rotate images\n",
        "def rotate_image(img, angle):\n",
        "    return img.rotate(angle, expand=True)\n",
        "\n",
        "# Define the folder path and the JSON file path\n",
        "folder_path = '/content/drive/My Drive/ColabWSData/reports/makolet1'\n",
        "json_file_path = '/content/drive/My Drive/ColabWSData/reports/text.txt'\n",
        "output_pdf = '/content/drive/My Drive/ColabWSData/reports/kabalot2_with_toc.pdf'\n",
        "\n",
        "# Load the JSON data\n",
        "with open(json_file_path, 'r', encoding='utf-8') as file:\n",
        "    image_files_info = json.load(file)\n",
        "\n",
        "# Initialize PDF canvas\n",
        "c = canvas.Canvas(output_pdf)\n",
        "\n",
        "# Adjusted height for larger text and TOC\n",
        "title_height = 140\n",
        "\n",
        "# Process and add images to the PDF\n",
        "for info in image_files_info:\n",
        "    image_path = os.path.join(folder_path, info['filename'])\n",
        "    with Image.open(image_path) as img:\n",
        "        # Assuming rotation is already handled\n",
        "        rotated_img = rotate_image(img, int(info['rot']))\n",
        "\n",
        "        # Get the original image dimensions\n",
        "        width, height = rotated_img.size\n",
        "\n",
        "        # Define the extra space needed at the top for the title and its margin\n",
        "        title_space = 80  # Adjust based on your font size and desired margin\n",
        "\n",
        "        # Calculate the new page height to include the image, title, and margin\n",
        "        page_height = height + title_space\n",
        "\n",
        "        c.setPageSize((width, page_height))\n",
        "\n",
        "        # Temporarily save the rotated image for adding to the PDF\n",
        "        with tempfile.NamedTemporaryFile(delete=True, suffix='.png') as tmp:\n",
        "            rotated_img.save(tmp.name, format='PNG')\n",
        "            # Position the image at the bottom of the extra space reserved for the title\n",
        "            c.drawImage(tmp.name, 0, 0, width=width, height=height)  # Image is drawn starting from the bottom\n",
        "\n",
        "        # Process the Hebrew text with bidi algorithm\n",
        "        hebrew_text = info['title']\n",
        "        reshaped_text = arabic_reshaper.reshape(hebrew_text)  # Prepare text for bidi processing\n",
        "        bidi_text = get_display(reshaped_text)  # Apply bidi algorithm\n",
        "\n",
        "        # Draw the title text above the image\n",
        "        c.setFont(\"NotoSansHebrew\", 48)\n",
        "        # Draw the title at the top, considering the margin\n",
        "        text_y_position = height + (title_space - 50)  # Adjust the subtraction to move text down\n",
        "        c.drawCentredString(width / 2, text_y_position, bidi_text)\n",
        "        c.showPage()\n",
        "c.save()\n",
        "print(\"PDF created successfully.\")\n"
      ]
    }
  ]
}